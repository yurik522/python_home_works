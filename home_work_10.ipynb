{
 "cells": [
  {
   "cell_type": "code",
   "execution_count": 3,
   "metadata": {},
   "outputs": [],
   "source": [
    "import pandas\n",
    "import random\n",
    "\n"
   ]
  },
  {
   "cell_type": "code",
   "execution_count": 1,
   "metadata": {},
   "outputs": [
    {
     "name": "stdout",
     "output_type": "stream",
     "text": [
      "['robot', 'robot', 'robot', 'robot', 'robot', 'robot', 'robot', 'robot', 'robot', 'robot']\n"
     ]
    }
   ],
   "source": [
    "lst = ['robot'] * 10\n",
    "print(lst)"
   ]
  },
  {
   "cell_type": "code",
   "execution_count": 2,
   "metadata": {},
   "outputs": [
    {
     "name": "stdout",
     "output_type": "stream",
     "text": [
      "['robot', 'robot', 'robot', 'robot', 'robot', 'robot', 'robot', 'robot', 'robot', 'robot', 'human', 'human', 'human', 'human', 'human', 'human', 'human', 'human', 'human', 'human']\n"
     ]
    }
   ],
   "source": [
    "lst += ['human'] * 10\n",
    "print(lst)\n"
   ]
  },
  {
   "cell_type": "code",
   "execution_count": 5,
   "metadata": {},
   "outputs": [
    {
     "name": "stdout",
     "output_type": "stream",
     "text": [
      "['human', 'robot', 'robot', 'robot', 'human', 'robot', 'robot', 'robot', 'human', 'human', 'robot', 'robot', 'human', 'human', 'human', 'robot', 'robot', 'human', 'human', 'human']\n"
     ]
    }
   ],
   "source": [
    "random.shuffle(lst)\n",
    "print(lst)\n"
   ]
  },
  {
   "cell_type": "code",
   "execution_count": 6,
   "metadata": {},
   "outputs": [
    {
     "data": {
      "text/html": [
       "<div>\n",
       "<style scoped>\n",
       "    .dataframe tbody tr th:only-of-type {\n",
       "        vertical-align: middle;\n",
       "    }\n",
       "\n",
       "    .dataframe tbody tr th {\n",
       "        vertical-align: top;\n",
       "    }\n",
       "\n",
       "    .dataframe thead th {\n",
       "        text-align: right;\n",
       "    }\n",
       "</style>\n",
       "<table border=\"1\" class=\"dataframe\">\n",
       "  <thead>\n",
       "    <tr style=\"text-align: right;\">\n",
       "      <th></th>\n",
       "      <th>whoAmI</th>\n",
       "    </tr>\n",
       "  </thead>\n",
       "  <tbody>\n",
       "    <tr>\n",
       "      <th>0</th>\n",
       "      <td>human</td>\n",
       "    </tr>\n",
       "    <tr>\n",
       "      <th>1</th>\n",
       "      <td>robot</td>\n",
       "    </tr>\n",
       "    <tr>\n",
       "      <th>2</th>\n",
       "      <td>robot</td>\n",
       "    </tr>\n",
       "    <tr>\n",
       "      <th>3</th>\n",
       "      <td>robot</td>\n",
       "    </tr>\n",
       "    <tr>\n",
       "      <th>4</th>\n",
       "      <td>human</td>\n",
       "    </tr>\n",
       "  </tbody>\n",
       "</table>\n",
       "</div>"
      ],
      "text/plain": [
       "  whoAmI\n",
       "0  human\n",
       "1  robot\n",
       "2  robot\n",
       "3  robot\n",
       "4  human"
      ]
     },
     "execution_count": 6,
     "metadata": {},
     "output_type": "execute_result"
    }
   ],
   "source": [
    "data = pandas.DataFrame({'whoAmI':lst})\n",
    "data.head()"
   ]
  },
  {
   "cell_type": "code",
   "execution_count": 12,
   "metadata": {},
   "outputs": [],
   "source": [
    "# Получаем уникальные категории\n",
    "categories = data['whoAmI'].unique()"
   ]
  },
  {
   "cell_type": "code",
   "execution_count": 13,
   "metadata": {},
   "outputs": [],
   "source": [
    "# Создаем новый DataFrame для one-hot кодировки\n",
    "one_hot_data = pandas.DataFrame()"
   ]
  },
  {
   "cell_type": "code",
   "execution_count": 15,
   "metadata": {},
   "outputs": [
    {
     "name": "stdout",
     "output_type": "stream",
     "text": [
      "    human  robot\n",
      "0       1      0\n",
      "1       0      1\n",
      "2       0      1\n",
      "3       0      1\n",
      "4       1      0\n",
      "5       0      1\n",
      "6       0      1\n",
      "7       0      1\n",
      "8       1      0\n",
      "9       1      0\n",
      "10      0      1\n",
      "11      0      1\n",
      "12      1      0\n",
      "13      1      0\n",
      "14      1      0\n",
      "15      0      1\n",
      "16      0      1\n",
      "17      1      0\n",
      "18      1      0\n",
      "19      1      0\n"
     ]
    }
   ],
   "source": [
    "# Для каждой категории создаем новый столбец и заполняем его\n",
    "for category in categories:\n",
    "    one_hot_data[category] = (data['whoAmI'] == category).astype(int)\n",
    "\n",
    "# Выводим первые строки\n",
    "print(one_hot_data.head(n=20))"
   ]
  }
 ],
 "metadata": {
  "kernelspec": {
   "display_name": "Python 3",
   "language": "python",
   "name": "python3"
  },
  "language_info": {
   "codemirror_mode": {
    "name": "ipython",
    "version": 3
   },
   "file_extension": ".py",
   "mimetype": "text/x-python",
   "name": "python",
   "nbconvert_exporter": "python",
   "pygments_lexer": "ipython3",
   "version": "3.10.4"
  }
 },
 "nbformat": 4,
 "nbformat_minor": 2
}
